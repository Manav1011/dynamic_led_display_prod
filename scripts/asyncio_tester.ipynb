{
 "cells": [
  {
   "cell_type": "code",
   "execution_count": 15,
   "metadata": {},
   "outputs": [],
   "source": [
    "import asyncio\n",
    "import threading"
   ]
  },
  {
   "cell_type": "code",
   "execution_count": 16,
   "metadata": {},
   "outputs": [],
   "source": [
    "def start_event_loop(loop,coroutine):\n",
    "    asyncio.set_event_loop(loop=loop)\n",
    "    loop.run_until_complete(coroutine())"
   ]
  },
  {
   "cell_type": "code",
   "execution_count": 23,
   "metadata": {},
   "outputs": [],
   "source": [
    "async def test_coroutine1():\n",
    "    print(\"Coroutine started\")\n",
    "    await asyncio.sleep(10)\n",
    "    print('Coroutine ended')\n",
    "\n",
    "async def test_coroutine2():\n",
    "    print(\"Coroutine started\")\n",
    "    await asyncio.sleep(10)\n",
    "    print('Coroutine ended')\n",
    "\n",
    "async def test_coroutine3():\n",
    "    print(\"Coroutine started\")\n",
    "    await asyncio.sleep(10)\n",
    "    print('Coroutine ended')"
   ]
  },
  {
   "cell_type": "code",
   "execution_count": 31,
   "metadata": {},
   "outputs": [],
   "source": [
    "new_loop = asyncio.new_event_loop()"
   ]
  },
  {
   "cell_type": "code",
   "execution_count": 29,
   "metadata": {},
   "outputs": [],
   "source": [
    "async def main():\n",
    "    task1 = asyncio.create_task(test_coroutine1())\n",
    "    task2 = asyncio.create_task(test_coroutine2())\n",
    "    task3 = asyncio.create_task(test_coroutine3())\n",
    "    await asyncio.gather(task1,task2,task3)"
   ]
  },
  {
   "cell_type": "code",
   "execution_count": 33,
   "metadata": {},
   "outputs": [
    {
     "name": "stdout",
     "output_type": "stream",
     "text": [
      "Coroutine started\n",
      "Coroutine started\n",
      "Coroutine started\n",
      "Coroutine ended\n",
      "Coroutine ended\n",
      "Coroutine ended\n"
     ]
    }
   ],
   "source": [
    "newthread = threading.Thread(target=start_event_loop, args=(new_loop,main))\n",
    "newthread.start()\n",
    "newthread.join()\n"
   ]
  }
 ],
 "metadata": {
  "kernelspec": {
   "display_name": "venv",
   "language": "python",
   "name": "python3"
  },
  "language_info": {
   "codemirror_mode": {
    "name": "ipython",
    "version": 3
   },
   "file_extension": ".py",
   "mimetype": "text/x-python",
   "name": "python",
   "nbconvert_exporter": "python",
   "pygments_lexer": "ipython3",
   "version": "3.10.12"
  }
 },
 "nbformat": 4,
 "nbformat_minor": 2
}
