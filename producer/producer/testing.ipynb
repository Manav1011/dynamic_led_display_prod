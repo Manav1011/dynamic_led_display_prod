{
 "cells": [
  {
   "cell_type": "code",
   "execution_count": 3,
   "metadata": {},
   "outputs": [],
   "source": [
    "import websocket\n",
    "import json\n",
    "import threading\n",
    "import pandas as pd"
   ]
  },
  {
   "cell_type": "code",
   "execution_count": 2,
   "metadata": {},
   "outputs": [],
   "source": [
    "def on_message(ws, message):\n",
    "    print(f\"Received message: {message}\")\n",
    "\n",
    "def on_error(ws, error):\n",
    "    print(f\"Error: {error}\")\n",
    "\n",
    "def on_close(ws, close_status_code, close_msg):\n",
    "    print(f\"Closed with status code {close_status_code}: {close_msg}\")\n",
    "\n",
    "def on_open(ws):\n",
    "    print(\"WebSocket connection opened\")\n",
    "    # Send a message after the connection is open\n",
    "    ws.send(json.dumps({\n",
    "            'client':'producer',\n",
    "            'device':'rs485',\n",
    "            'action':'connection'\n",
    "        }))"
   ]
  },
  {
   "cell_type": "code",
   "execution_count": 3,
   "metadata": {},
   "outputs": [],
   "source": [
    "websocket_url = 'ws://192.168.29.18:8000/ws/serial_communication/producer/'"
   ]
  },
  {
   "cell_type": "code",
   "execution_count": 4,
   "metadata": {},
   "outputs": [],
   "source": [
    "ws = websocket.WebSocketApp(websocket_url, on_message=on_message, on_error=on_error, on_close=on_close)\n",
    "ws.on_open = on_open"
   ]
  },
  {
   "cell_type": "code",
   "execution_count": 6,
   "metadata": {},
   "outputs": [],
   "source": [
    "def run_websocket():\n",
    "    ws.run_forever()"
   ]
  },
  {
   "cell_type": "code",
   "execution_count": 7,
   "metadata": {},
   "outputs": [
    {
     "name": "stdout",
     "output_type": "stream",
     "text": [
      "WebSocket connection opened\n"
     ]
    }
   ],
   "source": [
    "websocket_thread = threading.Thread(target=ws.run_forever)\n",
    "websocket_thread.start()"
   ]
  },
  {
   "cell_type": "code",
   "execution_count": 9,
   "metadata": {},
   "outputs": [
    {
     "name": "stdout",
     "output_type": "stream",
     "text": [
      "Error: Connection to remote host was lost.\n"
     ]
    }
   ],
   "source": [
    "ws.send(json.dumps({'client':'producer','device':'rs485','action':'None'}))\n"
   ]
  },
  {
   "cell_type": "code",
   "execution_count": 4,
   "metadata": {},
   "outputs": [
    {
     "name": "stdout",
     "output_type": "stream",
     "text": [
      "here\n"
     ]
    }
   ],
   "source": [
    "async def display():\n",
    "    print('here')\n",
    "await display()"
   ]
  },
  {
   "cell_type": "code",
   "execution_count": 5,
   "metadata": {},
   "outputs": [],
   "source": [
    "html_df = '''<table border=\"1\" class=\"dataframe table table-bordered table-striped text-center\">  <thead>    <tr style=\"text-align: center;\">      <th></th>      <th>WSPD</th>      <th>WDIR</th>    </tr>  </thead>  <tbody>    <tr>      <th>count</th>      <td>1281.00</td>      <td>1281.00</td>    </tr>    <tr>      <th>min</th>      <td>3.85</td>      <td>0.14</td>    </tr>    <tr>      <th>max</th>      <td>6.23</td>      <td>359.96</td>    </tr>    <tr>      <th>mean</th>      <td>5.00</td>      <td>28.15</td>    </tr>  </tbody></table>'''"
   ]
  },
  {
   "cell_type": "code",
   "execution_count": 8,
   "metadata": {},
   "outputs": [
    {
     "name": "stderr",
     "output_type": "stream",
     "text": [
      "/tmp/ipykernel_648184/2345649367.py:1: FutureWarning: Passing literal html to 'read_html' is deprecated and will be removed in a future version. To read from a literal string, wrap it in a 'StringIO' object.\n",
      "  df = pd.read_html(html_df)\n"
     ]
    },
    {
     "data": {
      "text/plain": [
       "[  Unnamed: 0     WSPD     WDIR\n",
       " 0      count  1281.00  1281.00\n",
       " 1        min     3.85     0.14\n",
       " 2        max     6.23   359.96\n",
       " 3       mean     5.00    28.15]"
      ]
     },
     "execution_count": 8,
     "metadata": {},
     "output_type": "execute_result"
    }
   ],
   "source": [
    "df = pd.read_html(html_df)\n",
    "df"
   ]
  }
 ],
 "metadata": {
  "kernelspec": {
   "display_name": ".globalenv",
   "language": "python",
   "name": "python3"
  },
  "language_info": {
   "codemirror_mode": {
    "name": "ipython",
    "version": 3
   },
   "file_extension": ".py",
   "mimetype": "text/x-python",
   "name": "python",
   "nbconvert_exporter": "python",
   "pygments_lexer": "ipython3",
   "version": "3.10.12"
  }
 },
 "nbformat": 4,
 "nbformat_minor": 2
}
