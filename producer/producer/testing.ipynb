{
 "cells": [
  {
   "cell_type": "code",
   "execution_count": 1,
   "metadata": {},
   "outputs": [],
   "source": [
    "import websocket\n",
    "import json\n",
    "import threading"
   ]
  },
  {
   "cell_type": "code",
   "execution_count": 2,
   "metadata": {},
   "outputs": [],
   "source": [
    "def on_message(ws, message):\n",
    "    print(f\"Received message: {message}\")\n",
    "\n",
    "def on_error(ws, error):\n",
    "    print(f\"Error: {error}\")\n",
    "\n",
    "def on_close(ws, close_status_code, close_msg):\n",
    "    print(f\"Closed with status code {close_status_code}: {close_msg}\")\n",
    "\n",
    "def on_open(ws):\n",
    "    print(\"WebSocket connection opened\")\n",
    "    # Send a message after the connection is open\n",
    "    ws.send(json.dumps({\n",
    "            'client':'producer',\n",
    "            'device':'rs485',\n",
    "            'action':'connection'\n",
    "        }))"
   ]
  },
  {
   "cell_type": "code",
   "execution_count": 3,
   "metadata": {},
   "outputs": [],
   "source": [
    "websocket_url = 'ws://192.168.29.18:8000/ws/serial_communication/producer/'"
   ]
  },
  {
   "cell_type": "code",
   "execution_count": 4,
   "metadata": {},
   "outputs": [],
   "source": [
    "ws = websocket.WebSocketApp(websocket_url, on_message=on_message, on_error=on_error, on_close=on_close)\n",
    "ws.on_open = on_open"
   ]
  },
  {
   "cell_type": "code",
   "execution_count": 6,
   "metadata": {},
   "outputs": [],
   "source": [
    "def run_websocket():\n",
    "    ws.run_forever()"
   ]
  },
  {
   "cell_type": "code",
   "execution_count": 7,
   "metadata": {},
   "outputs": [
    {
     "name": "stdout",
     "output_type": "stream",
     "text": [
      "WebSocket connection opened\n"
     ]
    }
   ],
   "source": [
    "websocket_thread = threading.Thread(target=ws.run_forever)\n",
    "websocket_thread.start()"
   ]
  },
  {
   "cell_type": "code",
   "execution_count": 9,
   "metadata": {},
   "outputs": [
    {
     "name": "stdout",
     "output_type": "stream",
     "text": [
      "Error: Connection to remote host was lost.\n"
     ]
    }
   ],
   "source": [
    "ws.send(json.dumps({'client':'producer','device':'rs485','action':'None'}))\n"
   ]
  },
  {
   "cell_type": "code",
   "execution_count": 38,
   "metadata": {},
   "outputs": [
    {
     "name": "stdout",
     "output_type": "stream",
     "text": [
      "here\n"
     ]
    }
   ],
   "source": [
    "async def display():\n",
    "    print('here')\n",
    "await display()"
   ]
  }
 ],
 "metadata": {
  "kernelspec": {
   "display_name": ".globalenv",
   "language": "python",
   "name": "python3"
  },
  "language_info": {
   "codemirror_mode": {
    "name": "ipython",
    "version": 3
   },
   "file_extension": ".py",
   "mimetype": "text/x-python",
   "name": "python",
   "nbconvert_exporter": "python",
   "pygments_lexer": "ipython3",
   "version": "3.10.12"
  }
 },
 "nbformat": 4,
 "nbformat_minor": 2
}
